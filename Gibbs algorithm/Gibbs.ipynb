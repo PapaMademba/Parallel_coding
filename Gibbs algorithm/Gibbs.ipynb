{
 "cells": [
  {
   "cell_type": "code",
   "execution_count": 2,
   "metadata": {},
   "outputs": [],
   "source": [
    "import time\n",
    "import numpy as np\n",
    "import matplotlib.pyplot as plt\n",
    "import multiprocessing\n",
    "import concurrent.futures"
   ]
  },
  {
   "cell_type": "code",
   "execution_count": 3,
   "metadata": {},
   "outputs": [
    {
     "name": "stdout",
     "output_type": "stream",
     "text": [
      "Le temps d'exécution est de  71.45273399353027 secondes\n"
     ]
    }
   ],
   "source": [
    "\n",
    "def gibbs(n):\n",
    "    x=0\n",
    "    y=0\n",
    "    thining=500\n",
    "    abscisse = []\n",
    "    ordo = []\n",
    "    for i in range(n):\n",
    "        for j in range(thining):\n",
    "            x=np.random.gamma(3,1.0/(y*y+4))\n",
    "            y=np.random.normal(1.0/(x+1),1.0/np.sqrt(x+1))\n",
    "        abscisse.append(x)\n",
    "        ordo.append(y)\n",
    "    return abscisse, ordo\n",
    "t_init = time.time()\n",
    "sample_results = gibbs(20000)\n",
    "\n",
    "\n",
    "############################ Affichage du temps d'exécution ####################################\n",
    "\n",
    "\n",
    "print(\"Le temps d'exécution est de  %s secondes\"%(time.time()-t_init))"
   ]
  },
  {
   "cell_type": "markdown",
   "metadata": {},
   "source": [
    "### <center>Faster version using multiprocessing"
   ]
  },
  {
   "cell_type": "code",
   "execution_count": 4,
   "metadata": {},
   "outputs": [
    {
     "name": "stdout",
     "output_type": "stream",
     "text": [
      "Le temps d'exécution est de  22.95964288711548 secondes\n"
     ]
    }
   ],
   "source": [
    "final_samples = [], []\n",
    "def gibbs2(n):\n",
    "    x=0\n",
    "    y=0\n",
    "    thining=500\n",
    "    abscisse = []\n",
    "    ordo = []\n",
    "    for i in range(n):\n",
    "        for j in range(thining):\n",
    "            x=np.random.gamma(3,1.0/(y*y+4))\n",
    "            y=np.random.normal(1.0/(x+1),1.0/np.sqrt(x+1))\n",
    "        abscisse.append(x)\n",
    "        ordo.append(y)\n",
    "    return abscisse, ordo\n",
    "\n",
    "############################ Début de la parallélisation ####################################\n",
    "def gibbs_distribue(obs, n_process):\n",
    "    \n",
    "    n = round(obs/n_process)\n",
    "    with concurrent.futures.ProcessPoolExecutor() as executor:\n",
    "        results =[executor.submit(gibbs2,n) for _ in range(n_process)]\n",
    "        for f in concurrent.futures.as_completed(results):\n",
    "            final_samples[0].append(f.result()[0])\n",
    "            final_samples[1].append(f.result()[1])\n",
    "            \n",
    "\n",
    "############################ Affichage du temps d'exécution ####################################\n",
    "t_init = time.time()\n",
    "gibbs_distribue(20000,5)\n",
    "print(\"Le temps d'exécution est de  %s secondes\"%(time.time()-t_init))"
   ]
  },
  {
   "cell_type": "code",
   "execution_count": 9,
   "metadata": {},
   "outputs": [
    {
     "data": {
      "text/plain": [
       "[<matplotlib.lines.Line2D at 0x7ff0fc52b050>]"
      ]
     },
     "execution_count": 9,
     "metadata": {},
     "output_type": "execute_result"
    },
    {
     "data": {
      "image/png": "[encoded data removed]",
      "text/plain": [
       "<Figure size 432x288 with 1 Axes>"
      ]
     },
     "metadata": {
      "needs_background": "light"
     },
     "output_type": "display_data"
    }
   ],
   "source": [
    "final_x = final_samples[0][0] + final_samples[0][1] + final_samples[0][2] + final_samples[0][3] + final_samples[0][4]\n",
    "final_y = final_samples[1][0] + final_samples[1][1] + final_samples[1][2] + final_samples[1][3] + final_samples[1][4]\n",
    "plt.plot(sample_results[0], sample_results[1],'.',color='blue')\n",
    "\n",
    "plt.plot(final_x, final_y,'.',color='red')\n"
   ]
  },
  {
   "cell_type": "code",
   "execution_count": null,
   "metadata": {},
   "outputs": [],
   "source": []
  }
 ],
 "metadata": {
  "kernelspec": {
   "display_name": "Python 3",
   "language": "python",
   "name": "python3"
  },
  "language_info": {
   "codemirror_mode": {
    "name": "ipython",
    "version": 3
   },
   "file_extension": ".py",
   "mimetype": "text/x-python",
   "name": "python",
   "nbconvert_exporter": "python",
   "pygments_lexer": "ipython3",
   "version": "3.7.7"
  }
 },
 "nbformat": 4,
 "nbformat_minor": 4
}
